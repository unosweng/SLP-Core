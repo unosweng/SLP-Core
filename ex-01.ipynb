{
 "cells": [
  {
   "cell_type": "code",
   "execution_count": 11,
   "metadata": {},
   "outputs": [
    {
     "name": "stdout",
     "output_type": "stream",
     "text": [
      "Darwin\n",
      "java version \"9.0.4\"\n",
      "Java(TM) SE Runtime Environment (build 9.0.4+11)\n",
      "Java HotSpot(TM) 64-Bit Server VM (build 9.0.4+11, mixed mode)\n"
     ]
    }
   ],
   "source": [
    "# java='/home/myoungkyu@unomaha.edu/java/jdk-17.0.8/bin/java' # Exception in thread \"main\" java.lang.ExceptionInInitializerError\n",
    "# java='/home/myoungkyu@unomaha.edu/java/jdk-11.0.11/bin/java' # Exception in thread \"main\" java.lang.ExceptionInInitializerError\n",
    "# java='/home/myoungkyu@unomaha.edu/java/jdk1.8.0_202/bin/java' # Error: A JNI error has occurred\n",
    "# JDK17, JDK11, JDK8 occurred a runtime exception.\n",
    "\n",
    "# jdk-9.0.4_linux-x64_bin.tar.gz FROM https://www.oracle.com/java/technologies/javase/javase9-archive-downloads.html\n",
    "import platform\n",
    "system = platform.system()\n",
    "print(system)\n",
    "if system == \"Darwin\":\n",
    "    java='/Library/Java/JavaVirtualMachines/jdk-9.0.4.jdk/Contents/Home/bin/java'\n",
    "elif system == \"Linux\": \n",
    "    java='/home/myoungkyu@unomaha.edu/java/jdk-9.0.4/bin/java'\n",
    "\n",
    "!$java -version"
   ]
  },
  {
   "cell_type": "code",
   "execution_count": 12,
   "metadata": {},
   "outputs": [
    {
     "name": "stdout",
     "output_type": "stream",
     "text": [
      "Using lexer PunctuationLexer\n"
     ]
    }
   ],
   "source": [
    "# Create a vocabulary for the train data, throwing away all words seen only once, and write to train.vocab.\n",
    "\n",
    "train = '~/Documents/0-slp-core/java_projects/java-spark'\n",
    "slp_core_jar = '~/Documents/0-slp-core/slp-core.jar'\n",
    "output = '.'\n",
    "\n",
    "!$java -jar $slp_core_jar vocabulary $train $output/train.vocab --unk-cutoff 2 -l simple --delims"
   ]
  },
  {
   "cell_type": "code",
   "execution_count": 13,
   "metadata": {},
   "outputs": [
    {
     "name": "stdout",
     "output_type": "stream",
     "text": [
      "java 9.0.4\n",
      "Java(TM) SE Runtime Environment (build 9.0.4+11)\n",
      "Java HotSpot(TM) 64-Bit Server VM (build 9.0.4+11, mixed mode)\n",
      "Using lexer PunctuationLexer\n",
      "Retrieving vocabulary from file\n",
      "Writing counter to file\n",
      "WARNING: An illegal reflective access operation has occurred\n",
      "WARNING: Illegal reflective access by org.jboss.marshalling.Marshalling$OptionalDataExceptionCreateAction$1 (file:/Users/myoungkyu/Documents/0-slp-core/slp-core.jar) to constructor java.io.OptionalDataException(boolean)\n",
      "WARNING: Please consider reporting this to the maintainers of org.jboss.marshalling.Marshalling$OptionalDataExceptionCreateAction$1\n",
      "WARNING: Use --illegal-access=warn to enable warnings of further illegal reflective access operations\n",
      "WARNING: All illegal access operations will be denied in a future release\n",
      "Writing counter to: ./train.counts\n",
      "Counter written in 0s\n"
     ]
    }
   ],
   "source": [
    "# Train the model using 4-grams and the previously constructed vocabulary and write the counter to file:\n",
    "\n",
    "!$java --version\n",
    "!$java -jar $slp_core_jar train --train $train --counter $output/train.counts --vocabulary $output/train.vocab --closed --order 4 --per-line -l simple --delims"
   ]
  },
  {
   "cell_type": "code",
   "execution_count": 14,
   "metadata": {},
   "outputs": [
    {
     "name": "stdout",
     "output_type": "stream",
     "text": [
      "Using lexer PunctuationLexer\n",
      "Retrieving vocabulary from file\n",
      "Retrieving counter from file\n",
      "WARNING: An illegal reflective access operation has occurred\n",
      "WARNING: Illegal reflective access by org.jboss.marshalling.Marshalling$OptionalDataExceptionCreateAction$1 (file:/Users/myoungkyu/Documents/0-slp-core/slp-core.jar) to constructor java.io.OptionalDataException(boolean)\n",
      "WARNING: Please consider reporting this to the maintainers of org.jboss.marshalling.Marshalling$OptionalDataExceptionCreateAction$1\n",
      "WARNING: Use --illegal-access=warn to enable warnings of further illegal reflective access operations\n",
      "WARNING: All illegal access operations will be denied in a future release\n",
      "Reading counter from: ./train.counts\n",
      "Counter retrieved in 0s\n",
      "Testing complete, modeled 1 files with 107 tokens yielding average entropy:\t2.3392\n"
     ]
    }
   ],
   "source": [
    "# Test the model using the vocabulary from above and ADM smoothing:\n",
    "\n",
    "test='~/Documents/0-slp-core/java_projects/kalleankarepo'\n",
    "\n",
    "!$java -jar $slp_core_jar test --test $test --counter $output/train.counts -v $output/train.vocab --closed -o 4 --model adm --per-line -l simple --delims"
   ]
  },
  {
   "cell_type": "markdown",
   "metadata": {},
   "source": [
    "# FSE'17 Replication"
   ]
  },
  {
   "cell_type": "code",
   "execution_count": 15,
   "metadata": {},
   "outputs": [
    {
     "name": "stdout",
     "output_type": "stream",
     "text": [
      "./SLP-Core_v0.1.jar\n",
      "-rw-r--r--  1 myoungkyu  staff  758 Jan 25 23:35 ./train.vocab\n"
     ]
    }
   ],
   "source": [
    "slp_core_jar=\"./SLP-Core_v0.1.jar\"\n",
    "\n",
    "!ls $slp_core_jar\n",
    "# !$java -jar $slp_core_jar --help\n",
    "!$java -jar $slp_core_jar vocabulary $train $output/train.vocab --unk-cutoff 2 -l simple --delims\n",
    "!ls -l $output/train.vocab"
   ]
  }
 ],
 "metadata": {
  "kernelspec": {
   "display_name": "myenv_python3_11",
   "language": "python",
   "name": "python3"
  },
  "language_info": {
   "codemirror_mode": {
    "name": "ipython",
    "version": 3
   },
   "file_extension": ".py",
   "mimetype": "text/x-python",
   "name": "python",
   "nbconvert_exporter": "python",
   "pygments_lexer": "ipython3",
   "version": "3.11.3"
  }
 },
 "nbformat": 4,
 "nbformat_minor": 2
}
